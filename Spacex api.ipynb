{
    "cells": [
        {
            "metadata": {},
            "cell_type": "markdown",
            "source": "<center>\n    <img src=\"https://gitlab.com/ibm/skills-network/courses/placeholder101/-/raw/master/labs/module%201/images/IDSNlogo.png\" width=\"300\" alt=\"cognitiveclass.ai logo\"  />\n</center>\n"
        },
        {
            "metadata": {},
            "cell_type": "markdown",
            "source": "# **Space X  Falcon 9 First Stage Landing Prediction**\n"
        },
        {
            "metadata": {},
            "cell_type": "markdown",
            "source": "## Web scraping Falcon 9 and Falcon Heavy Launches Records from Wikipedia\n"
        },
        {
            "metadata": {},
            "cell_type": "markdown",
            "source": "Estimated time needed: **40** minutes\n"
        },
        {
            "metadata": {},
            "cell_type": "markdown",
            "source": "In this lab, you will be performing web scraping to collect Falcon 9 historical launch records from a Wikipedia page titled `List of Falcon 9 and Falcon Heavy launches`\n\n[https://en.wikipedia.org/wiki/List_of_Falcon\\_9\\_and_Falcon_Heavy_launches](https://en.wikipedia.org/wiki/List_of_Falcon\\_9\\_and_Falcon_Heavy_launches?utm_medium=Exinfluencer&utm_source=Exinfluencer&utm_content=000026UJ&utm_term=10006555&utm_id=NA-SkillsNetwork-Channel-SkillsNetworkCoursesIBMDS0321ENSkillsNetwork26802033-2021-01-01)\n"
        },
        {
            "metadata": {},
            "cell_type": "markdown",
            "source": "![](https://cf-courses-data.s3.us.cloud-object-storage.appdomain.cloud/IBM-DS0321EN-SkillsNetwork/labs/module\\_1\\_L2/images/Falcon9\\_rocket_family.svg)\n"
        },
        {
            "metadata": {},
            "cell_type": "markdown",
            "source": "Falcon 9 first stage will land successfully\n"
        },
        {
            "metadata": {},
            "cell_type": "markdown",
            "source": "![](https://cf-courses-data.s3.us.cloud-object-storage.appdomain.cloud/IBMDeveloperSkillsNetwork-DS0701EN-SkillsNetwork/api/Images/landing\\_1.gif)\n"
        },
        {
            "metadata": {},
            "cell_type": "markdown",
            "source": "Several examples of an unsuccessful landing are shown here:\n"
        },
        {
            "metadata": {},
            "cell_type": "markdown",
            "source": "![](https://cf-courses-data.s3.us.cloud-object-storage.appdomain.cloud/IBMDeveloperSkillsNetwork-DS0701EN-SkillsNetwork/api/Images/crash.gif)\n"
        },
        {
            "metadata": {},
            "cell_type": "markdown",
            "source": "More specifically, the launch records are stored in a HTML table shown below:\n"
        },
        {
            "metadata": {},
            "cell_type": "markdown",
            "source": "![](https://cf-courses-data.s3.us.cloud-object-storage.appdomain.cloud/IBM-DS0321EN-SkillsNetwork/labs/module\\_1\\_L2/images/falcon9-launches-wiki.png)\n"
        },
        {
            "metadata": {},
            "cell_type": "markdown",
            "source": "## Objectives\n\nWeb scrap Falcon 9 launch records with `BeautifulSoup`:\n\n*   Extract a Falcon 9 launch records HTML table from Wikipedia\n*   Parse the table and convert it into a Pandas data frame\n"
        },
        {
            "metadata": {},
            "cell_type": "markdown",
            "source": "First let's import required packages for this lab\n"
        },
        {
            "metadata": {},
            "cell_type": "code",
            "source": "!pip3 install beautifulsoup4\n!pip3 install requests",
            "execution_count": 1,
            "outputs": [
                {
                    "output_type": "stream",
                    "text": "Requirement already satisfied: beautifulsoup4 in /opt/conda/envs/Python-3.8-main/lib/python3.8/site-packages (4.9.3)\nRequirement already satisfied: soupsieve>1.2 in /opt/conda/envs/Python-3.8-main/lib/python3.8/site-packages (from beautifulsoup4) (2.2.1)\nRequirement already satisfied: requests in /opt/conda/envs/Python-3.8-main/lib/python3.8/site-packages (2.25.1)\nRequirement already satisfied: idna<3,>=2.5 in /opt/conda/envs/Python-3.8-main/lib/python3.8/site-packages (from requests) (2.8)\nRequirement already satisfied: certifi>=2017.4.17 in /opt/conda/envs/Python-3.8-main/lib/python3.8/site-packages (from requests) (2021.5.30)\nRequirement already satisfied: chardet<5,>=3.0.2 in /opt/conda/envs/Python-3.8-main/lib/python3.8/site-packages (from requests) (3.0.4)\nRequirement already satisfied: urllib3<1.27,>=1.21.1 in /opt/conda/envs/Python-3.8-main/lib/python3.8/site-packages (from requests) (1.26.6)\n",
                    "name": "stdout"
                }
            ]
        },
        {
            "metadata": {},
            "cell_type": "code",
            "source": "import sys\n\nimport requests\nfrom bs4 import BeautifulSoup\nimport re\nimport unicodedata\nimport pandas as pd",
            "execution_count": 2,
            "outputs": []
        },
        {
            "metadata": {},
            "cell_type": "markdown",
            "source": "and we will provide some helper functions for you to process web scraped HTML table\n"
        },
        {
            "metadata": {},
            "cell_type": "code",
            "source": "def date_time(table_cells):\n    \"\"\"\n    This function returns the data and time from the HTML  table cell\n    Input: the  element of a table data cell extracts extra row\n    \"\"\"\n    return [data_time.strip() for data_time in list(table_cells.strings)][0:2]\n\ndef booster_version(table_cells):\n    \"\"\"\n    This function returns the booster version from the HTML  table cell \n    Input: the  element of a table data cell extracts extra row\n    \"\"\"\n    out=''.join([booster_version for i,booster_version in enumerate( table_cells.strings) if i%2==0][0:-1])\n    return out\n\ndef landing_status(table_cells):\n    \"\"\"\n    This function returns the landing status from the HTML table cell \n    Input: the  element of a table data cell extracts extra row\n    \"\"\"\n    out=[i for i in table_cells.strings][0]\n    return out\n\n\ndef get_mass(table_cells):\n    mass=unicodedata.normalize(\"NFKD\", table_cells.text).strip()\n    if mass:\n        mass.find(\"kg\")\n        new_mass=mass[0:mass.find(\"kg\")+2]\n    else:\n        new_mass=0\n    return new_mass\n\n\ndef extract_column_from_header(row):\n    \"\"\"\n    This function returns the landing status from the HTML table cell \n    Input: the  element of a table data cell extracts extra row\n    \"\"\"\n    if (row.br):\n        row.br.extract()\n    if row.a:\n        row.a.extract()\n    if row.sup:\n        row.sup.extract()\n        \n    colunm_name = ' '.join(row.contents)\n    \n    # Filter the digit and empty names\n    if not(colunm_name.strip().isdigit()):\n        colunm_name = colunm_name.strip()\n        return colunm_name    \n",
            "execution_count": 3,
            "outputs": []
        },
        {
            "metadata": {},
            "cell_type": "markdown",
            "source": "To keep the lab tasks consistent, you will be asked to scrape the data from a snapshot of the  `List of Falcon 9 and Falcon Heavy launches` Wikipage updated on\n`9th June 2021`\n"
        },
        {
            "metadata": {},
            "cell_type": "code",
            "source": "static_url = \"https://en.wikipedia.org/w/index.php?title=List_of_Falcon_9_and_Falcon_Heavy_launches&oldid=1027686922\"",
            "execution_count": 4,
            "outputs": []
        },
        {
            "metadata": {},
            "cell_type": "markdown",
            "source": "\nNext, request the HTML page from the above URL and get a `response` object\n"
        },
        {
            "metadata": {},
            "cell_type": "markdown",
            "source": "### TASK 1: Request the Falcon9 Launch Wiki page from its URL\n"
        },
        {
            "metadata": {},
            "cell_type": "markdown",
            "source": "First, let's perform an HTTP GET method to request the Falcon9 Launch HTML page, as an HTTP response.\n"
        },
        {
            "metadata": {},
            "cell_type": "code",
            "source": "# use requests.get() method with the provided static_url\nrequests.get(\"https://en.wikipedia.org/w/index.php?title=List_of_Falcon_9_and_Falcon_Heavy_launches&oldid=1027686922\")\n# assign the response to a object",
            "execution_count": 6,
            "outputs": [
                {
                    "output_type": "execute_result",
                    "execution_count": 6,
                    "data": {
                        "text/plain": "<Response [200]>"
                    },
                    "metadata": {}
                }
            ]
        },
        {
            "metadata": {},
            "cell_type": "markdown",
            "source": "Create a `BeautifulSoup` object from the HTML `response`\n"
        },
        {
            "metadata": {},
            "cell_type": "code",
            "source": "# Use BeautifulSoup() to create a BeautifulSoup object from a response text content\nimport requests\nfrom bs4 import BeautifulSoup\n\nurl = 'https://en.wikipedia.org/w/index.php?title=List_of_Falcon_9_and_Falcon_Heavy_launches&oldid=1027686922'\n\nresponse = requests.get(url)\nsoup = BeautifulSoup(response.text, \"html.parser\")",
            "execution_count": 11,
            "outputs": []
        },
        {
            "metadata": {},
            "cell_type": "markdown",
            "source": "Print the page title to verify if the `BeautifulSoup` object was created properly\n"
        },
        {
            "metadata": {},
            "cell_type": "code",
            "source": "# Use soup.title attribute\nsoup.find('title')",
            "execution_count": 12,
            "outputs": [
                {
                    "output_type": "execute_result",
                    "execution_count": 12,
                    "data": {
                        "text/plain": "<title>List of Falcon 9 and Falcon Heavy launches - Wikipedia</title>"
                    },
                    "metadata": {}
                }
            ]
        },
        {
            "metadata": {},
            "cell_type": "markdown",
            "source": "### TASK 2: Extract all column/variable names from the HTML table header\n"
        },
        {
            "metadata": {},
            "cell_type": "markdown",
            "source": "Next, we want to collect all relevant column names from the HTML table header\n"
        },
        {
            "metadata": {},
            "cell_type": "markdown",
            "source": "Let's try to find all tables on the wiki page first. If you need to refresh your memory about `BeautifulSoup`, please check the external reference link towards the end of this lab\n"
        },
        {
            "metadata": {},
            "cell_type": "code",
            "source": "# Use the find_all function in the BeautifulSoup object, with element type `table`\nprint('Classes of each table:')\nfor table in soup.find_all('table'):\n    print(table.get('class'))\n    tables = soup.find_all('table')\n# Assign the result to a list called `html_tables`\nhtml_tables = [i.get_text() for i in tables]\n",
            "execution_count": 25,
            "outputs": [
                {
                    "output_type": "stream",
                    "text": "Classes of each table:\n['multicol']\n['multicol']\n['wikitable', 'plainrowheaders', 'collapsible']\n['wikitable', 'plainrowheaders', 'collapsible']\n['wikitable', 'plainrowheaders', 'collapsible']\n['wikitable', 'plainrowheaders', 'collapsible']\n['wikitable', 'plainrowheaders', 'collapsible']\n['wikitable', 'plainrowheaders', 'collapsible']\n['wikitable', 'plainrowheaders', 'collapsible']\n['wikitable', 'plainrowheaders', 'collapsible']\n['wikitable', 'plainrowheaders', 'collapsible']\n['wikitable']\n['wikitable']\n['wikitable']\n['wikitable']\n['nowraplinks', 'hlist', 'mw-collapsible', 'autocollapse', 'navbox-inner']\n['nowraplinks', 'navbox-subgroup']\n['nowraplinks', 'mw-collapsible', 'mw-collapsed', 'navbox-inner']\n['nowraplinks', 'navbox-subgroup']\n['nowraplinks', 'navbox-subgroup']\n['nowraplinks', 'navbox-subgroup']\n['nowraplinks', 'navbox-subgroup']\n['nowraplinks', 'hlist', 'mw-collapsible', 'autocollapse', 'navbox-inner']\n['nowraplinks', 'navbox-subgroup']\n",
                    "name": "stdout"
                }
            ]
        },
        {
            "metadata": {},
            "cell_type": "markdown",
            "source": "Starting from the third table is our target table contains the actual launch records.\n"
        },
        {
            "metadata": {},
            "cell_type": "code",
            "source": "# Let's print the third table and check its content\nfirst_launch_table = html_tables[2]\nprint(first_launch_table)",
            "execution_count": 17,
            "outputs": [
                {
                    "output_type": "stream",
                    "text": "\n\nFlight No.\n\nDate andtime (UTC)\n\nVersion,Booster [b]\n\nLaunch site\n\nPayload[c]\n\nPayload mass\n\nOrbit\n\nCustomer\n\nLaunchoutcome\n\nBoosterlanding\n\n\n1\n\n4 June 2010,18:45\n\nF9 v1.0[7]B0003.1[8]\n\nCCAFS,SLC-40\n\nDragon Spacecraft Qualification Unit\n\n\n\nLEO\n\nSpaceX\n\nSuccess\n\nFailure[9][10](parachute)\n\n\nFirst flight of Falcon 9 v1.0.[11] Used a boilerplate version of Dragon capsule which was not designed to separate from the second stage.(more details below) Attempted to recover the first stage by parachuting it into the ocean, but it burned up on reentry, before the parachutes even deployed.[12]\n\n\n2\n\n8 December 2010,15:43[13]\n\nF9 v1.0[7]B0004.1[8]\n\nCCAFS,SLC-40\n\nDragon demo flight C1(Dragon C101)\n\n\n\nLEO (ISS)\n\n\nNASA (COTS)\nNRO\n\n\nSuccess[9]\n\nFailure[9][14](parachute)\n\n\nMaiden flight of Dragon capsule, consisting of over 3 hours of testing thruster maneuvering and reentry.[15] Attempted to recover the first stage by parachuting it into the ocean, but it disintegrated upon reentry, before the parachutes were deployed.[12] (more details below) It also included two CubeSats,[16] and a wheel of Brou\u00e8re cheese.\n\n\n3\n\n22 May 2012,07:44[17]\n\nF9 v1.0[7]B0005.1[8]\n\nCCAFS,SLC-40\n\nDragon demo flight C2+[18](Dragon C102)\n\n525\u00a0kg (1,157\u00a0lb)[19]\n\nLEO (ISS)\n\nNASA (COTS)\n\nSuccess[20]\n\nNo attempt\n\n\nDragon spacecraft demonstrated a series of tests before it was allowed to approach the International Space Station. Two days later, it became the first commercial spacecraft to board the ISS.[17] (more details below)\n\n\n4\n\n8 October 2012,00:35[21]\n\nF9 v1.0[7]B0006.1[8]\n\nCCAFS,SLC-40\n\nSpaceX CRS-1[22](Dragon C103)\n\n4,700\u00a0kg (10,400\u00a0lb)\n\nLEO (ISS)\n\nNASA (CRS)\n\nSuccess\n\nNo attempt\n\n\nOrbcomm-OG2[23]\n\n172\u00a0kg (379\u00a0lb)[24]\n\nLEO\n\nOrbcomm\n\nPartial failure[25]\n\n\nCRS-1 was successful, but the secondary payload was inserted into an abnormally low orbit and subsequently lost. This was due to one of the nine Merlin engines shutting down during the launch, and NASA declining a second reignition, as per ISS visiting vehicle safety rules, the primary payload owner is contractually allowed to decline a second reignition. NASA stated that this was because SpaceX could not guarantee a high enough likelihood of the second stage completing the second burn successfully which was required to avoid any risk of secondary payload's collision with the ISS.[26][27][28]\n\n\n5\n\n1 March 2013,15:10\n\nF9 v1.0[7]B0007.1[8]\n\nCCAFS,SLC-40\n\nSpaceX CRS-2[22](Dragon C104)\n\n4,877\u00a0kg (10,752\u00a0lb)\n\nLEO (ISS)\n\nNASA (CRS)\n\nSuccess\n\nNo attempt\n\n\nLast launch of the original Falcon 9 v1.0 launch vehicle, first use of the unpressurized trunk section of Dragon.[29]\n\n\n6\n\n29 September 2013,16:00[30]\n\nF9 v1.1[7]B1003[8]\n\nVAFB,SLC-4E\n\nCASSIOPE[22][31]\n\n500\u00a0kg (1,100\u00a0lb)\n\nPolar orbit LEO\n\nMDA\n\nSuccess[30]\n\nUncontrolled(ocean)[d]\n\n\nFirst commercial mission with a private customer, first launch from Vandenberg, and demonstration flight of Falcon 9 v1.1 with an improved 13-tonne to LEO capacity.[29] After separation from the second stage carrying Canadian commercial and scientific satellites, the first stage booster performed a controlled reentry,[32] and an ocean touchdown test for the first time. This provided good test data, even though the booster started rolling as it neared the ocean, leading to the shutdown of the central engine as the roll depleted it of fuel, resulting in a hard impact with the ocean.[30] This was the first known attempt of a rocket engine being lit to perform a supersonic retro propulsion, and allowed SpaceX to enter a public-private partnership with NASA and its Mars entry, descent, and landing technologies research projects.[33] (more details below)\n\n\n7\n\n3 December 2013,22:41[34]\n\nF9 v1.1B1004\n\nCCAFS,SLC-40\n\nSES-8[22][35][36]\n\n3,170\u00a0kg (6,990\u00a0lb)\n\nGTO\n\nSES\n\nSuccess[37]\n\nNo attempt[38]\n\n\nFirst Geostationary transfer orbit (GTO) launch for Falcon 9,[35] and first successful reignition of the second stage.[39] SES-8 was inserted into a Super-Synchronous Transfer Orbit of 79,341\u00a0km (49,300\u00a0mi) in apogee with an inclination of 20.55\u00b0 to the equator.\n\n",
                    "name": "stdout"
                }
            ]
        },
        {
            "metadata": {},
            "cell_type": "markdown",
            "source": "You should able to see the columns names embedded in the table header elements `<th>` as follows:\n"
        },
        {
            "metadata": {},
            "cell_type": "markdown",
            "source": "```\n<tr>\n<th scope=\"col\">Flight No.\n</th>\n<th scope=\"col\">Date and<br/>time (<a href=\"/wiki/Coordinated_Universal_Time\" title=\"Coordinated Universal Time\">UTC</a>)\n</th>\n<th scope=\"col\"><a href=\"/wiki/List_of_Falcon_9_first-stage_boosters\" title=\"List of Falcon 9 first-stage boosters\">Version,<br/>Booster</a> <sup class=\"reference\" id=\"cite_ref-booster_11-0\"><a href=\"#cite_note-booster-11\">[b]</a></sup>\n</th>\n<th scope=\"col\">Launch site\n</th>\n<th scope=\"col\">Payload<sup class=\"reference\" id=\"cite_ref-Dragon_12-0\"><a href=\"#cite_note-Dragon-12\">[c]</a></sup>\n</th>\n<th scope=\"col\">Payload mass\n</th>\n<th scope=\"col\">Orbit\n</th>\n<th scope=\"col\">Customer\n</th>\n<th scope=\"col\">Launch<br/>outcome\n</th>\n<th scope=\"col\"><a href=\"/wiki/Falcon_9_first-stage_landing_tests\" title=\"Falcon 9 first-stage landing tests\">Booster<br/>landing</a>\n</th></tr>\n```\n"
        },
        {
            "metadata": {},
            "cell_type": "markdown",
            "source": "Next, we just need to iterate through the `<th>` elements and apply the provided `extract_column_from_header()` to extract column name one by one\n"
        },
        {
            "metadata": {},
            "cell_type": "code",
            "source": "column_names = []\n\n# Apply find_all() function with `th` element on first_launch_table\n# Iterate each th element and apply the provided extract_column_from_header() to get a column name\n# Append the Non-empty column name (`if name is not None and len(name) > 0`) into a list called column_names\n",
            "execution_count": 26,
            "outputs": []
        },
        {
            "metadata": {},
            "cell_type": "markdown",
            "source": "Check the extracted column names\n"
        },
        {
            "metadata": {},
            "cell_type": "code",
            "source": "print(column_names)",
            "execution_count": 27,
            "outputs": [
                {
                    "output_type": "stream",
                    "text": "[]\n",
                    "name": "stdout"
                }
            ]
        },
        {
            "metadata": {},
            "cell_type": "markdown",
            "source": "## TASK 3: Create a data frame by parsing the launch HTML tables\n"
        },
        {
            "metadata": {},
            "cell_type": "markdown",
            "source": "We will create an empty dictionary with keys from the extracted column names in the previous task. Later, this dictionary will be converted into a Pandas dataframe\n"
        },
        {
            "metadata": {},
            "cell_type": "code",
            "source": "",
            "execution_count": null,
            "outputs": []
        },
        {
            "metadata": {},
            "cell_type": "code",
            "source": "launch_dict= dict.fromkeys(column_names)\n\n# Remove an irrelvant column\ndel launch_dict['Date and time ( )']\n\n# Let's initial the launch_dict with each value to be an empty list\nlaunch_dict['Flight No.'] = []\nlaunch_dict['Launch site'] = []\nlaunch_dict['Payload'] = []\nlaunch_dict['Payload mass'] = []\nlaunch_dict['Orbit'] = []\nlaunch_dict['Customer'] = []\nlaunch_dict['Launch outcome'] = []\n# Added some new columns\nlaunch_dict['Version Booster']=[]\nlaunch_dict['Booster landing']=[]\nlaunch_dict['Date']=[]\nlaunch_dict['Time']=[]",
            "execution_count": 21,
            "outputs": [
                {
                    "output_type": "error",
                    "ename": "NameError",
                    "evalue": "name 'column_names' is not defined",
                    "traceback": [
                        "\u001b[0;31m---------------------------------------------------------------------------\u001b[0m",
                        "\u001b[0;31mNameError\u001b[0m                                 Traceback (most recent call last)",
                        "\u001b[0;32m<ipython-input-21-e4cabb5d4940>\u001b[0m in \u001b[0;36m<module>\u001b[0;34m\u001b[0m\n\u001b[0;32m----> 1\u001b[0;31m \u001b[0mlaunch_dict\u001b[0m\u001b[0;34m=\u001b[0m \u001b[0mdict\u001b[0m\u001b[0;34m.\u001b[0m\u001b[0mfromkeys\u001b[0m\u001b[0;34m(\u001b[0m\u001b[0mcolumn_names\u001b[0m\u001b[0;34m)\u001b[0m\u001b[0;34m\u001b[0m\u001b[0;34m\u001b[0m\u001b[0m\n\u001b[0m\u001b[1;32m      2\u001b[0m \u001b[0;34m\u001b[0m\u001b[0m\n\u001b[1;32m      3\u001b[0m \u001b[0;31m# Remove an irrelvant column\u001b[0m\u001b[0;34m\u001b[0m\u001b[0;34m\u001b[0m\u001b[0;34m\u001b[0m\u001b[0m\n\u001b[1;32m      4\u001b[0m \u001b[0;32mdel\u001b[0m \u001b[0mlaunch_dict\u001b[0m\u001b[0;34m[\u001b[0m\u001b[0;34m'Date and time ( )'\u001b[0m\u001b[0;34m]\u001b[0m\u001b[0;34m\u001b[0m\u001b[0;34m\u001b[0m\u001b[0m\n\u001b[1;32m      5\u001b[0m \u001b[0;34m\u001b[0m\u001b[0m\n",
                        "\u001b[0;31mNameError\u001b[0m: name 'column_names' is not defined"
                    ]
                }
            ]
        },
        {
            "metadata": {},
            "cell_type": "markdown",
            "source": "Next, we just need to fill up the `launch_dict` with launch records extracted from table rows.\n"
        },
        {
            "metadata": {},
            "cell_type": "markdown",
            "source": "Usually, HTML tables in Wiki pages are likely to contain unexpected annotations and other types of noises, such as reference links `B0004.1[8]`, missing values `N/A [e]`, inconsistent formatting, etc.\n"
        },
        {
            "metadata": {},
            "cell_type": "markdown",
            "source": "To simplify the parsing process, we have provided an incomplete code snippet below to help you to fill up the `launch_dict`. Please complete the following code snippet with TODOs or you can choose to write your own logic to parse all launch tables:\n"
        },
        {
            "metadata": {},
            "cell_type": "code",
            "source": "extracted_row = 0\n#Extract each table \nfor table_number,table in enumerate(soup.find_all('table',\"wikitable plainrowheaders collapsible\")):\n   # get table row \n    for rows in table.find_all(\"tr\"):\n        #check to see if first table heading is as number corresponding to launch a number \n        if rows.th:\n            if rows.th.string:\n                flight_number=rows.th.string.strip()\n                flag=flight_number.isdigit()\n        else:\n            flag=False\n        #get table element \n        row=rows.find_all('td')\n        #if it is number save cells in a dictonary \n        if flag:\n            extracted_row += 1\n            # Flight Number value\n            # TODO: Append the flight_number into launch_dict with key `Flight No.`\n            #print(flight_number)\n            datatimelist=date_time(row[0])\n            \n            # Date value\n            # TODO: Append the date into launch_dict with key `Date`\n            date = datatimelist[0].strip(',')\n            #print(date)\n            \n            # Time value\n            # TODO: Append the time into launch_dict with key `Time`\n            time = datatimelist[1]\n            #print(time)\n              \n            # Booster version\n            # TODO: Append the bv into launch_dict with key `Version Booster`\n            bv=booster_version(row[1])\n            if not(bv):\n                bv=row[1].a.string\n            print(bv)\n            \n            # Launch Site\n            # TODO: Append the bv into launch_dict with key `Launch Site`\n            launch_site = row[2].a.string\n            #print(launch_site)\n            \n            # Payload\n            # TODO: Append the payload into launch_dict with key `Payload`\n            payload = row[3].a.string\n            #print(payload)\n            \n            # Payload Mass\n            # TODO: Append the payload_mass into launch_dict with key `Payload mass`\n            payload_mass = get_mass(row[4])\n            #print(payload)\n            \n            # Orbit\n            # TODO: Append the orbit into launch_dict with key `Orbit`\n            orbit = row[5].a.string\n            #print(orbit)\n            \n            # Customer\n            # TODO: Append the customer into launch_dict with key `Customer`\n            customer = row[6].a.string\n            #print(customer)\n            \n            # Launch outcome\n            # TODO: Append the launch_outcome into launch_dict with key `Launch outcome`\n            launch_outcome = list(row[7].strings)[0]\n            #print(launch_outcome)\n            \n            # Booster landing\n            # TODO: Append the launch_outcome into launch_dict with key `Booster landing`\n            booster_landing = landing_status(row[8])\n            #print(booster_landing)\n            ",
            "execution_count": null,
            "outputs": []
        },
        {
            "metadata": {},
            "cell_type": "markdown",
            "source": "After you have fill in the parsed launch record values into `launch_dict`, you can create a dataframe from it.\n"
        },
        {
            "metadata": {},
            "cell_type": "code",
            "source": "df=pd.DataFrame(launch_dict)",
            "execution_count": null,
            "outputs": []
        },
        {
            "metadata": {},
            "cell_type": "markdown",
            "source": "We can now export it to a <b>CSV</b> for the next section, but to make the answers consistent and in case you have difficulties finishing this lab.\n\nFollowing labs will be using a provided dataset to make each lab independent.\n"
        },
        {
            "metadata": {},
            "cell_type": "markdown",
            "source": "<code>df.to_csv('spacex_web_scraped.csv', index=False)</code>\n"
        },
        {
            "metadata": {},
            "cell_type": "markdown",
            "source": "## Authors\n"
        },
        {
            "metadata": {},
            "cell_type": "markdown",
            "source": "<a href=\"https://www.linkedin.com/in/yan-luo-96288783/?utm_medium=Exinfluencer&utm_source=Exinfluencer&utm_content=000026UJ&utm_term=10006555&utm_id=NA-SkillsNetwork-Channel-SkillsNetworkCoursesIBMDS0321ENSkillsNetwork26802033-2021-01-01\">Yan Luo</a>\n"
        },
        {
            "metadata": {},
            "cell_type": "markdown",
            "source": "<a href=\"https://www.linkedin.com/in/nayefaboutayoun/?utm_medium=Exinfluencer&utm_source=Exinfluencer&utm_content=000026UJ&utm_term=10006555&utm_id=NA-SkillsNetwork-Channel-SkillsNetworkCoursesIBMDS0321ENSkillsNetwork26802033-2021-01-01\">Nayef Abou Tayoun</a>\n"
        },
        {
            "metadata": {},
            "cell_type": "markdown",
            "source": "## Change Log\n"
        },
        {
            "metadata": {},
            "cell_type": "markdown",
            "source": "| Date (YYYY-MM-DD) | Version | Changed By | Change Description          |\n| ----------------- | ------- | ---------- | --------------------------- |\n| 2021-06-09        | 1.0     | Yan Luo    | Tasks updates               |\n| 2020-11-10        | 1.0     | Nayef      | Created the initial version |\n"
        },
        {
            "metadata": {},
            "cell_type": "markdown",
            "source": "Copyright \u00a9 2021 IBM Corporation. All rights reserved.\n"
        }
    ],
    "metadata": {
        "kernelspec": {
            "name": "python3",
            "display_name": "Python 3.8",
            "language": "python"
        },
        "language_info": {
            "name": "python",
            "version": "3.8.10",
            "mimetype": "text/x-python",
            "codemirror_mode": {
                "name": "ipython",
                "version": 3
            },
            "pygments_lexer": "ipython3",
            "nbconvert_exporter": "python",
            "file_extension": ".py"
        }
    },
    "nbformat": 4,
    "nbformat_minor": 4
}